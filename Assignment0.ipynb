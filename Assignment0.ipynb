{
  "nbformat": 4,
  "nbformat_minor": 0,
  "metadata": {
    "colab": {
      "provenance": [],
      "include_colab_link": true
    },
    "kernelspec": {
      "name": "python3",
      "display_name": "Python 3"
    },
    "language_info": {
      "name": "python"
    }
  },
  "cells": [
    {
      "cell_type": "markdown",
      "metadata": {
        "id": "view-in-github",
        "colab_type": "text"
      },
      "source": [
        "<a href=\"https://colab.research.google.com/github/SuphachalaiChaichana/Assignment0/blob/main/Assignment0.ipynb\" target=\"_parent\"><img src=\"https://colab.research.google.com/assets/colab-badge.svg\" alt=\"Open In Colab\"/></a>"
      ]
    },
    {
      "cell_type": "code",
      "source": [
        "#6404053620045 ศุภฌาลัย ชัยชนะ"
      ],
      "metadata": {
        "id": "3XBK7KSRmE01"
      },
      "execution_count": null,
      "outputs": []
    },
    {
      "cell_type": "markdown",
      "source": [
        "1. Consider a sequence of n Bernoulli trials with success probabilty p per trial. A string of consecutive successes is known as a success run. Write a function that returns the counts for runs of length k for each k observed in a dictionary."
      ],
      "metadata": {
        "id": "sZEwJjOUZdW8"
      }
    },
    {
      "cell_type": "code",
      "source": [
        "import numpy as np\n",
        "from collections import Counter\n",
        "\n",
        "def count_runs(xs):\n",
        "    \"\"\"Count number of success runs of length k.\"\"\"\n",
        "    ys = []\n",
        "    count = 0\n",
        "    for x in xs:\n",
        "        if x == 1:\n",
        "            count += 1\n",
        "        else:\n",
        "            if count: ys.append(count)\n",
        "            count = 0\n",
        "    if count: ys.append(count)\n",
        "    return Counter(ys)\n",
        "count_runs([0, 1, 0, 1, 1, 0, 0, 0, 0, 1],)"
      ],
      "metadata": {
        "id": "tjVOUR4RTu8T",
        "colab": {
          "base_uri": "https://localhost:8080/"
        },
        "outputId": "f90c2ed9-6a66-4828-811a-82f0dfd98b61"
      },
      "execution_count": 1,
      "outputs": [
        {
          "output_type": "execute_result",
          "data": {
            "text/plain": [
              "Counter({1: 2, 2: 1})"
            ]
          },
          "metadata": {},
          "execution_count": 1
        }
      ]
    },
    {
      "cell_type": "code",
      "source": [
        "count_runs(np.random.randint(0,2,1000000))"
      ],
      "metadata": {
        "colab": {
          "base_uri": "https://localhost:8080/"
        },
        "id": "dCfmA5deZWjq",
        "outputId": "5daa9f51-3df4-4cb4-8ab1-d46279e4a1fc"
      },
      "execution_count": null,
      "outputs": [
        {
          "output_type": "execute_result",
          "data": {
            "text/plain": [
              "Counter({1: 124502,\n",
              "         2: 62780,\n",
              "         3: 31305,\n",
              "         4: 15868,\n",
              "         5: 7780,\n",
              "         6: 3867,\n",
              "         8: 983,\n",
              "         9: 479,\n",
              "         7: 1881,\n",
              "         10: 237,\n",
              "         18: 3,\n",
              "         11: 118,\n",
              "         14: 10,\n",
              "         13: 36,\n",
              "         12: 46,\n",
              "         16: 2,\n",
              "         15: 8,\n",
              "         17: 3})"
            ]
          },
          "metadata": {},
          "execution_count": 57
        }
      ]
    },
    {
      "cell_type": "markdown",
      "source": [
        "2. Continuing from Part 1, what is the probability of observing at least one run of length 5 or more when n=100 and p=0.5?. Estimate this from 100,000 simulated experiments. Is this more, less or equally likely than finding runs of length 7 or more when p=0.7 ?"
      ],
      "metadata": {
        "id": "OiQ0vt5tZ-Z2"
      }
    },
    {
      "cell_type": "code",
      "source": [
        "def run_prob(expts, n, k, p):\n",
        "    xxs = np.random.choice([0,1], (expts, n), p=(1-p, p))\n",
        "    return sum(max(d.keys()) >= k for d in map(count_runs, xxs))/expts"
      ],
      "metadata": {
        "id": "WQPW6VyuZweM"
      },
      "execution_count": 3,
      "outputs": []
    },
    {
      "cell_type": "code",
      "source": [
        "run_prob(expts=100000, n=100, k=5, p=0.5)"
      ],
      "metadata": {
        "colab": {
          "base_uri": "https://localhost:8080/"
        },
        "id": "kDkk_DDOaBtS",
        "outputId": "2ed9ea60-65e8-405b-aaa0-3496d6bf0b7a"
      },
      "execution_count": 4,
      "outputs": [
        {
          "output_type": "execute_result",
          "data": {
            "text/plain": [
              "0.94825"
            ]
          },
          "metadata": {},
          "execution_count": 4
        }
      ]
    },
    {
      "cell_type": "code",
      "source": [
        "run_prob(expts=100000, n=100, k=7, p=0.7)"
      ],
      "metadata": {
        "colab": {
          "base_uri": "https://localhost:8080/"
        },
        "id": "Hx47gpKeaEKw",
        "outputId": "3246fb27-e3e2-48d9-d162-9dd68b561ef0"
      },
      "execution_count": null,
      "outputs": [
        {
          "output_type": "execute_result",
          "data": {
            "text/plain": [
              "0.94956"
            ]
          },
          "metadata": {},
          "execution_count": 60
        }
      ]
    }
  ]
}